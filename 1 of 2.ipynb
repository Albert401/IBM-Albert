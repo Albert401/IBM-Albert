{
 "cells": [
  {
   "cell_type": "markdown",
   "metadata": {},
   "source": [
    "## Restaurant Opening Analysis"
   ]
  },
  {
   "cell_type": "markdown",
   "metadata": {},
   "source": [
    "## Introduction"
   ]
  },
  {
   "cell_type": "markdown",
   "metadata": {},
   "source": [
    "#### Canada has such high respect for people and quality of living. People accross the world love migrating to Canada before any other nation because country quality of life. People loves the food, and there can never be sufficient options when in any city. Toronto is the center that has so much potential for businesspeople. Toronto is arguably one of the most interesting places in the world. Toronto has to 8,100 restaurants and pubs, representing 6.5% of all stores in the city. The multicultural population of the GTA is supposed to move 9 million people by 2036. Meaning that the market and need for more establishments, restaurants and pubs will grow. We want to discover, by doing some investigation, which section in Toronto would be the best to set up a new establishment.\n",
    "\n",
    "#### Retailing experts have concluded that we must pay particular consideration to recreation services because they are deemed attractive to possible consumers. It's common that people go to the restaurant after the show or different cultural activity.\n",
    "#### Also additional food services presents that could be viewed in some instances, competition, or, in other cases, complementary."
   ]
  },
  {
   "cell_type": "markdown",
   "metadata": {},
   "source": [
    "## Data \n",
    "\n",
    "#### To reach the above goals, different data sources are needed. We need to authenticate which area in the city has the biggest chance for a new restaurant to be thriving.\n",
    "\n",
    "### Canada Data\n",
    "##### Web scraping of Canada data on Wikipedia for a list of postal codes and areas.\n",
    "\n",
    "### Geolocation\n",
    "##### For geolocation of the Toronto neighborhoods, Python geocoder will be used.\n",
    "\n",
    "### Foursquare location data\n",
    "##### Foursquare provides venue data for Toronto establishments of interest\n",
    "\n"
   ]
  },
  {
   "cell_type": "code",
   "execution_count": null,
   "metadata": {},
   "outputs": [],
   "source": []
  }
 ],
 "metadata": {
  "kernelspec": {
   "display_name": "Python 3.6",
   "language": "python",
   "name": "python3"
  },
  "language_info": {
   "codemirror_mode": {
    "name": "ipython",
    "version": 3
   },
   "file_extension": ".py",
   "mimetype": "text/x-python",
   "name": "python",
   "nbconvert_exporter": "python",
   "pygments_lexer": "ipython3",
   "version": "3.6.9"
  }
 },
 "nbformat": 4,
 "nbformat_minor": 2
}
